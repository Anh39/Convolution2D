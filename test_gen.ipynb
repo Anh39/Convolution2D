{
 "cells": [
  {
   "cell_type": "code",
   "execution_count": 1,
   "metadata": {},
   "outputs": [],
   "source": [
    "import random\n",
    "\n",
    "arrI = []\n",
    "arrK = []\n",
    "\n",
    "def read_array(path):\n",
    "    with open(path, 'r') as file:\n",
    "        result = []\n",
    "        line = file.readline()\n",
    "        while(line):\n",
    "            row = []\n",
    "            str_values = line.split(\",\")\n",
    "            for str_value in str_values:\n",
    "                row.append(int(str_value))\n",
    "            result.append(row)\n",
    "            line = file.readline()\n",
    "        return result\n",
    "def write_array(arr: list[list[int]], path):\n",
    "    with open(path, 'w') as file:\n",
    "        lines = []\n",
    "        for row in arr:\n",
    "            line = \",\".join([str(n) for n in row]) + \"\\n\"\n",
    "            lines.append(line)\n",
    "        file.writelines(lines)\n",
    "    \n",
    "def gen_array(size: tuple[int, int], val_range: tuple[int, int]):\n",
    "    result = [[0 for _ in range(size[0])] for _ in range(size[1])]\n",
    "    for i in range(size[1]):\n",
    "        for j in range(size[0]):\n",
    "            result[i][j] = random.randint(val_range[0], val_range[1])\n",
    "    return result\n",
    "def convolution(input_arr: list[list[int]], kernel_arr: list[list[int]]):\n",
    "    width_size = len(input_arr) - len(kernel_arr) + 1\n",
    "    height_size = len(input_arr[0]) - len(kernel_arr[0]) + 1\n",
    "    k_width = len(kernel_arr)\n",
    "    k_height = len(kernel_arr[0])\n",
    "    result_arr = [[0 for _ in range(height_size)] for _ in range(width_size)]\n",
    "    for i in range(width_size):\n",
    "        for j in range(height_size):\n",
    "            result = 0\n",
    "            for ik in range(k_width):\n",
    "                for jk in range(k_height):\n",
    "                    result += input_arr[i+ik][j+jk] * kernel_arr[ik][jk]\n",
    "            result_arr[i][j] = result\n",
    "    return result_arr\n",
    "arrI = gen_array([5, 10], [0, 10])\n",
    "arrK = gen_array([2, 3], [0, 10])\n",
    "arrO = convolution(arrI, arrK)\n",
    "write_array(arrI, 'test/input.txt')\n",
    "write_array(arrK, 'test/kernel.txt')\n",
    "write_array(arrO, 'test/output.txt')"
   ]
  }
 ],
 "metadata": {
  "kernelspec": {
   "display_name": "data",
   "language": "python",
   "name": "python3"
  },
  "language_info": {
   "codemirror_mode": {
    "name": "ipython",
    "version": 3
   },
   "file_extension": ".py",
   "mimetype": "text/x-python",
   "name": "python",
   "nbconvert_exporter": "python",
   "pygments_lexer": "ipython3",
   "version": "3.12.4"
  }
 },
 "nbformat": 4,
 "nbformat_minor": 2
}
